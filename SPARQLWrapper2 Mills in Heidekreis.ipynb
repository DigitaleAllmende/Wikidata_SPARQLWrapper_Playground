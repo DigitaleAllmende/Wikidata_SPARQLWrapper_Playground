{
 "cells": [
  {
   "cell_type": "markdown",
   "id": "4cf6ccd2",
   "metadata": {},
   "source": [
    "## Mühlen im Heidekreis\n"
   ]
  },
  {
   "cell_type": "markdown",
   "id": "908ece09",
   "metadata": {},
   "source": [
    "SPARQL-Query in Wikidata \n",
    "\n",
    "Die Wikidata-Abfrage braucht lange und sollte verbessert werden."
   ]
  },
  {
   "cell_type": "code",
   "execution_count": 2,
   "id": "b3bb4820",
   "metadata": {},
   "outputs": [
    {
     "name": "stdout",
     "output_type": "stream",
     "text": [
      "Wassermühle Eggersmühlen 53.175127777778 9.7364583333333\n",
      "Sprengeler Mühle 53.067747222222 9.7404888888889\n",
      "Wassermühle Hambostel 53.024191666667 9.9177805555556\n",
      "Wassermühle Hützel 53.097927777778 10.031186111111\n",
      "Cordinger Mühle 52.9038 9.62203\n",
      "Ratsmühle Soltau 52.983547222222 9.8405638888889\n",
      "Bockwindmühle Rethem 52.783526 9.386821\n",
      "Windmühle Heber 53.082205555556 9.8476416666667\n",
      "Wassermühle Lünzen 53.109138888889 9.6903388888889\n",
      "Bommühle 52.90255 9.76053\n"
     ]
    }
   ],
   "source": [
    "from SPARQLWrapper import SPARQLWrapper2\n",
    "\n",
    "sparql = SPARQLWrapper2(\"https://query.wikidata.org/sparql\")\n",
    "\n",
    "sparql.setQuery(\"\"\"\n",
    "SELECT DISTINCT ?item ?itemLabel ?itemLat ?itemLon\n",
    "WHERE {\n",
    "   ?item wdt:P31/wdt:P279* wd:Q44494;  \n",
    "         wdt:P131* wd:Q5922;           \n",
    "         p:P625 ?coordinate.\n",
    "  ?coordinate psv:P625 ?coordinate_node.\n",
    "  ?coordinate_node wikibase:geoLatitude ?itemLat.\n",
    "  ?coordinate_node wikibase:geoLongitude ?itemLon.\n",
    "SERVICE wikibase:label { bd:serviceParam wikibase:language \"de\". }\n",
    "}\n",
    "\"\"\")\n",
    "\n",
    "for result in sparql.query().bindings:\n",
    "    print (result['itemLabel'].value, result['itemLat'].value, result['itemLon'].value)\n"
   ]
  },
  {
   "cell_type": "code",
   "execution_count": null,
   "id": "b67be050",
   "metadata": {},
   "outputs": [],
   "source": []
  }
 ],
 "metadata": {
  "kernelspec": {
   "display_name": "Python 3 (ipykernel)",
   "language": "python",
   "name": "python3"
  },
  "language_info": {
   "codemirror_mode": {
    "name": "ipython",
    "version": 3
   },
   "file_extension": ".py",
   "mimetype": "text/x-python",
   "name": "python",
   "nbconvert_exporter": "python",
   "pygments_lexer": "ipython3",
   "version": "3.10.9"
  }
 },
 "nbformat": 4,
 "nbformat_minor": 5
}
